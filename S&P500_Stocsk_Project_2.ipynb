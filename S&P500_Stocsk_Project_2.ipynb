{
 "cells": [
  {
   "cell_type": "code",
   "execution_count": null,
   "metadata": {},
   "outputs": [],
   "source": [
    "# Importing relevant modules:\n",
    "import pandas as pd\n",
    "import numpy as np\n",
    "import matplotlib.pyplot as plt\n",
    "import plotly.express as px\n",
    "from urllib.request import Request, urlopen \n",
    "%matplotlib inline\n",
    "import matplotlib.dates as mdates\n",
    "from matplotlib.dates import DateFormatter\n",
    "import seaborn as sns\n",
    "from datetime import datetime, timedelta\n",
    "import time\n",
    "import calendar\n",
    "from pandas_datareader import data,wb\n",
    "from pandas.tseries.offsets import BQuarterBegin"
   ]
  },
  {
   "cell_type": "code",
   "execution_count": null,
   "metadata": {},
   "outputs": [],
   "source": [
    "# Union data of tables and to add column with stocks and sector of stocks\n",
    "\n",
    "df_AAPL = pd.read_csv(\"AAPL.csv\")\n",
    "df_AAPL[\"company\"]='AAPL'\n",
    "df_AAPL[\"sector\"]='technology'\n",
    "\n",
    "df_AMZN = pd.read_csv(\"AMZN.csv\")\n",
    "df_AMZN[\"company\"]='AMZN'\n",
    "df_AMZN[\"sector\"]='consumer cyclical'\n",
    "\n",
    "df_FB = pd.read_csv(\"FB.csv\")\n",
    "df_FB[\"company\"]='FB'\n",
    "df_FB[\"sector\"]='communication'\n",
    "\n",
    "df_GOOG = pd.read_csv(\"GOOG.csv\")\n",
    "df_GOOG[\"company\"]='GOOG'\n",
    "df_GOOG[\"sector\"]='communication'\n",
    "\n",
    "df_HD = pd.read_csv(\"HD.csv\")\n",
    "df_HD[\"company\"]='HD'\n",
    "df_HD[\"sector\"]='consumer cyclical'\n",
    "\n",
    "df_JNJ = pd.read_csv(\"JNJ.csv\")\n",
    "df_JNJ[\"company\"]='JNJ'\n",
    "df_JNJ[\"sector\"]='healthcare'\n",
    "\n",
    "df_MDT = pd.read_csv(\"MDT.csv\")\n",
    "df_MDT[\"company\"]='MDT'\n",
    "df_MDT[\"sector\"]='healthcare'\n",
    "\n",
    "df_MSFT = pd.read_csv(\"MSFT.csv\")\n",
    "df_MSFT[\"company\"]='MSFT'\n",
    "df_MSFT[\"sector\"]='technology'\n",
    "\n",
    "df_NFLX = pd.read_csv(\"NFLX.csv\")\n",
    "df_NFLX[\"company\"]='NFLX'\n",
    "df_NFLX[\"sector\"]='communication'\n",
    "\n",
    "df_NVDA = pd.read_csv(\"NVDA.csv\")\n",
    "df_NVDA[\"company\"]='NVDA'\n",
    "df_NVDA[\"sector\"]='technology'\n",
    "\n",
    "df_PFE = pd.read_csv(\"PFE.csv\")\n",
    "df_PFE[\"company\"]='PFE'\n",
    "df_PFE[\"sector\"]='healthcare'\n",
    "\n",
    "df_WIX = pd.read_csv(\"WIX.csv\")\n",
    "df_WIX[\"company\"]='WIX'\n",
    "df_WIX[\"sector\"]='technology'\n",
    "\n",
    "\n",
    "\n",
    "data=pd.concat([df_AAPL, df_AMZN,df_FB,df_GOOG,df_HD,df_JNJ,df_MDT,df_MSFT,df_NFLX,df_NVDA,df_PFE,df_WIX])\n",
    "data.info()\n",
    "data['Date'] = pd.to_datetime(data['Date'], format='%d-%m-%Y')"
   ]
  },
  {
   "cell_type": "code",
   "execution_count": null,
   "metadata": {},
   "outputs": [],
   "source": [
    "#to find mean,max Close Stocks by sector and company\n",
    "start_date = '01-01-2021'\n",
    "end_date = '31-12-2021'\n",
    "date_ranges = (data['Date'] >= start_date) & (data['Date'] <= end_date)\n",
    "data.loc[date_ranges].groupby(['sector','company'])['Close'].agg(['mean', 'max','min'])"
   ]
  },
  {
   "cell_type": "code",
   "execution_count": null,
   "metadata": {},
   "outputs": [],
   "source": [
    "import plotly.express as px\n",
    "start_date = '01-01-2021'\n",
    "end_date = '31-12-2021'\n",
    "date_ranges = (data['Date'] >= start_date) & (data['Date'] <= end_date)\n",
    "data = data.loc[date_ranges]\n",
    "\n",
    "px.line(data, x='Date', y='Close', color='company', facet_col='sector')"
   ]
  },
  {
   "cell_type": "code",
   "execution_count": null,
   "metadata": {},
   "outputs": [],
   "source": [
    "#union sectors\n",
    "df_Technologies = pd.read_csv(\"Technology Sector Index.csv\")\n",
    "df_Communications = pd.read_csv(\"Communications Services Sector Index.csv\")\n",
    "df_Consumer = pd.read_csv(\"Consumer Discretionary Sector Index.csv\")\n",
    "df_Health = pd.read_csv(\"Health Care Sector Index.csv\")\n",
    "\n",
    "df_Technologies[\"Sector\"]='Technologies'\n",
    "df_Communications[\"Sector\"]='Communications'\n",
    "df_Consumer [\"Sector\"]='Consumer'\n",
    "df_Health [\"Sector\"]='Health'\n",
    "\n",
    "df_Technologies['Close'] = df_Technologies['Close'].str.replace(\",\", \"\").astype(float)\n",
    "df_Health['Close'] = df_Health['Close'].str.replace(\",\", \"\").astype(float)\n",
    "df_Consumer['Close'] = df_Consumer['Close'].str.replace(\",\", \"\").astype(float)\n",
    "\n",
    "df_Index=pd.concat([df_Technologies, df_Health, df_Communications])\n",
    "\n",
    "df_Index['Date'] = pd.to_datetime(df_Index['Date'], format='%d/%m/%Y')\n",
    "\n",
    "\n",
    "start_2021 = '01/01/2021'\n",
    "end_2021 = '31/12/2021'\n",
    "# df_Index.tail(500)\n",
    "\n",
    "date_2021 = (df_Index['Date'] >= start_2021) & (df_Index['Date'] <= end_2021)\n",
    "\n",
    "df_Index = df_Index.loc[date_2021].set_index('Date') \n",
    "\n",
    "\n",
    "df_Index['Q Change Price'] = df_Index.groupby(['Sector'])['Close'].pct_change( freq='Q' )\n",
    "#df_Index\n",
    "\n",
    "q1 = df_Index.loc['2021-03-31':'2021-03-31']\n",
    "q2 = df_Index.loc['2021-06-30':'2021-06-30']\n",
    "q3 = df_Index.loc['2021-09-30':'2021-09-30']\n",
    "q4 = df_Index.loc['2021-12-31':'2021-12-31']\n",
    "\n",
    "df_Index_2021_Yearly = pd.concat([q1, q2, q3, q4])\n",
    "\n",
    "final = df_Index_2021_Yearly.agg({'Close':['mean']})\n",
    "\n",
    "df_Index_2021_Yearly"
   ]
  },
  {
   "cell_type": "code",
   "execution_count": null,
   "metadata": {},
   "outputs": [],
   "source": [
    "start_date = '01-01-2021'\n",
    "end_date = '31-12-2021'\n",
    "date_ranges = (data['Date'] >= start_date) & (data['Date'] <= end_date)\n",
    "data.loc[date_ranges]"
   ]
  },
  {
   "cell_type": "code",
   "execution_count": null,
   "metadata": {},
   "outputs": [],
   "source": [
    "start_2021 = '01-01-2021'\n",
    "end_2021 = '31-12-2021'\n",
    "date_2021 = (data['Date'] >= start_2021) & (data['Date'] <= end_2021)\n",
    "data_daily=data.loc[date_2021]\n",
    "data_daily['Daily change Close Price by company'] =data_daily.groupby(['company'])['Close'].pct_change()\n",
    "data_daily"
   ]
  },
  {
   "cell_type": "code",
   "execution_count": null,
   "metadata": {},
   "outputs": [],
   "source": [
    "q1_stocks = data.loc['2021-03-31':'2021-03-31']\n",
    "q2_stocks = data.loc['2021-06-30':'2021-06-30']\n",
    "q3_stocks = data.loc['2021-09-30':'2021-09-30']\n",
    "q4_stocks = data.loc['2021-12-31':'2021-12-31']\n",
    "stocks_yearly = pd.concat([q1_stocks, q2_stocks, q3_stocks, q4_stocks])\n",
    "data['Q change by company'] = data.groupby('company').Close.pct_change(freq='Q')\n",
    "data\n",
    "stocks_yearly"
   ]
  },
  {
   "cell_type": "code",
   "execution_count": null,
   "metadata": {},
   "outputs": [],
   "source": [
    "#Using Pivot\n",
    "\n",
    "start_2021 = '01-01-2021'\n",
    "end_2021 = '31-12-2021'\n",
    "date_2021 = (data['Date'] >= start_2021) & (data['Date'] <= end_2021)\n",
    "data=data.loc[date_2021]\n",
    "\n",
    "data_pivot=data.pivot('Date','company','Close').reset_index()\n",
    "data_pivot.head()"
   ]
  },
  {
   "cell_type": "code",
   "execution_count": null,
   "metadata": {},
   "outputs": [],
   "source": [
    "# Pearson coralleation\n",
    "corr_df = data_pivot.corr(method='pearson')\n",
    "corr_df.head().reset_index()\n",
    "corr_df.head(12)"
   ]
  },
  {
   "cell_type": "code",
   "execution_count": null,
   "metadata": {},
   "outputs": [],
   "source": [
    "# pearson heatmap\n",
    "plt.figure(figsize=(13, 8))\n",
    "sns.heatmap(corr_df, annot=True, cmap=\"RdYlGn\")\n",
    "plt.figure()"
   ]
  },
  {
   "cell_type": "code",
   "execution_count": null,
   "metadata": {},
   "outputs": [],
   "source": [
    "sector_pivot = df_Index.pivot('Date','Sector','Close').reset_index()\n",
    "sector_pivot"
   ]
  },
  {
   "cell_type": "code",
   "execution_count": null,
   "metadata": {},
   "outputs": [],
   "source": [
    "#pearson for sectors\n",
    "sector_map = sector_pivot.corr(method='pearson')\n",
    "plt.figure(figsize=(13, 8))\n",
    "sns.heatmap(sector_map, annot=True, cmap=\"RdYlGn\")\n",
    "plt.figure()"
   ]
  },
  {
   "cell_type": "code",
   "execution_count": null,
   "metadata": {},
   "outputs": [],
   "source": [
    "data_pivot.plot(x='Date',figsize=(12,10))\n",
    "plt.ylabel('Close Price')\n",
    "plt.show()"
   ]
  },
  {
   "cell_type": "code",
   "execution_count": null,
   "metadata": {},
   "outputs": [],
   "source": [
    "import plotly.express as px\n",
    "df_Index_2021_Yearly = df_Index_2021_Yearly.reset_index()\n",
    "px.area(df_Index_2021_Yearly, x='Date', y='Close', color='Sector')"
   ]
  },
  {
   "cell_type": "code",
   "execution_count": null,
   "metadata": {},
   "outputs": [],
   "source": [
    "#Normalising Multiple Stocks\n",
    "#We divided all the closing price to the first closing price in the period\n",
    "data_s=data_pivot.set_index('Date')\n",
    "returnfstart = data_s.apply(lambda x: x / x[0])\n",
    "returnfstart.plot(figsize=(18,12)).axhline(1, lw=1, color='black')\n",
    "plt.ylabel('Return From Start Price')"
   ]
  },
  {
   "cell_type": "code",
   "execution_count": null,
   "metadata": {},
   "outputs": [],
   "source": [
    "data_per =data_pivot.set_index('Date')\n",
    "data_pct = data_per.pct_change()\n",
    "\n",
    "data_pct.plot(figsize=(20,12))\n",
    "plt.axhline(0, color='black', lw=1)\n",
    "plt.ylabel('Daily Percentage Return')"
   ]
  },
  {
   "cell_type": "code",
   "execution_count": null,
   "metadata": {},
   "outputs": [],
   "source": [
    "tech=['AAPL', 'MSFT','NVDA', 'WIX']\n",
    "# data =data[data['company'].isin(tech)]\n",
    "data_pivot_tech=data.pivot('Date','company','Close').reset_index()\n",
    "\n",
    "data_per =data_pivot_tech.set_index('Date')\n",
    "data_pct = data_per.pct_change()\n",
    "#'AAPL', 'MSFT','NVDA', '\"WIX'\n",
    "data_pct.plot(figsize=(20,12))\n",
    "plt.axhline(0, color='black', lw=1)\n",
    "plt.ylabel('Daily Percentage Return Technologies Stocks')"
   ]
  },
  {
   "cell_type": "code",
   "execution_count": null,
   "metadata": {},
   "outputs": [],
   "source": [
    "fig = px.line(data, x='Date', y='Close',color='company',title='Change Close Stock price by date')\n",
    "\n",
    "fig.update_xaxes(rangeslider_visible=True)\n",
    "\n",
    "\n",
    "plt.show()\n",
    "fig.show()"
   ]
  },
  {
   "cell_type": "code",
   "execution_count": null,
   "metadata": {},
   "outputs": [],
   "source": [
    "#Pearson for stocks by tech sector comparing to tech sector\n",
    "tech_df = pd.DataFrame(df_Index.loc[(df_Index[\"Sector\"]=='Technologies')])\n",
    "tech_stocks =pd.DataFrame(data.loc[(data['sector']=='technology')])\n",
    "tech_corr = tech_df.corrwith(tech_stocks['Close'])\n",
    "tech_df['Close'].mean()\n",
    "# tech_stocks['Close'].mean()\n",
    "tech_corr"
   ]
  },
  {
   "cell_type": "code",
   "execution_count": null,
   "metadata": {},
   "outputs": [],
   "source": [
    "#Pearson for stocks by communication sector comparing to communication sector\n",
    "comm_df = pd.DataFrame(df_Index.loc[(df_Index[\"Sector\"]=='Communications')])\n",
    "comm_stocks =pd.DataFrame(data.loc[(data['sector']=='communication')])\n",
    "comm_corr = comm_df.corrwith(comm_stocks['Close'])\n",
    "comm_df['Close'].mean()\n",
    "# comm_stocks['Close'].mean()\n",
    "comm_corr"
   ]
  },
  {
   "cell_type": "code",
   "execution_count": null,
   "metadata": {},
   "outputs": [],
   "source": [
    "#Pearson for stocks by health sector comparing to health sector\n",
    "heal_df = pd.DataFrame(df_Index.loc[(df_Index[\"Sector\"]=='Health')])\n",
    "heal_stocks =pd.DataFrame(data.loc[(data['sector']=='healthcare')])\n",
    "heal_corr = heal_df.corrwith(heal_stocks['Close'])\n",
    "heal_df.head()\n",
    "heal_stocks.head()\n",
    "heal_corr"
   ]
  },
  {
   "cell_type": "code",
   "execution_count": null,
   "metadata": {},
   "outputs": [],
   "source": [
    "plt.figure(figsize=(13, 8))\n",
    "# data_co = np.asarray(tech_corr).reshape(633,1)\n",
    "sns.heatmap(tech_corr[:, np.newaxis], cmap=\"RdYlGn\")\n",
    "# sns.heatmap(data_co, annot=True, cmap=\"RdYlGn\")\n",
    "plt.figure()"
   ]
  },
  {
   "cell_type": "code",
   "execution_count": null,
   "metadata": {},
   "outputs": [],
   "source": [
    "df_Index = df_Index.reset_index()\n",
    "tech_sector = df_Index.loc[(df_Index[\"Sector\"]=='Technologies')]\n",
    "fig= px.area(tech_sector, x='Date', y='Close')\n",
    "fig.show()"
   ]
  },
  {
   "cell_type": "code",
   "execution_count": null,
   "metadata": {},
   "outputs": [],
   "source": [
    "df_tec =  data.loc[(data['sector']=='technology')]\n",
    "# # df = px.df_tec.stocks(indexed=True)\n",
    "df_tech = px.data.stocks(indexed=True)\n",
    "fig = px.histogram(df_tec, x='Date',y='Close',nbins=500)\n",
    "\n",
    "fig.show()\n",
    "# df_tec.head()"
   ]
  },
  {
   "cell_type": "code",
   "execution_count": null,
   "metadata": {},
   "outputs": [],
   "source": [
    "comm_sector = df_Index.loc[(df_Index[\"Sector\"]=='Communications')]\n",
    "fig= px.area(comm_sector, x='Date', y='Close')\n",
    "fig.show()"
   ]
  },
  {
   "cell_type": "code",
   "execution_count": null,
   "metadata": {},
   "outputs": [],
   "source": [
    "df_com = data.loc[(data['sector']=='communication')]\n",
    "fig = px.histogram(df_com, x='Date',y='Close',nbins=500)\n",
    "fig.show()"
   ]
  },
  {
   "cell_type": "code",
   "execution_count": null,
   "metadata": {},
   "outputs": [],
   "source": [
    "health_sector = df_Index.loc[(df_Index[\"Sector\"]=='Health')]\n",
    "fig= px.area(health_sector, x='Date', y='Close')\n",
    "fig.show()"
   ]
  },
  {
   "cell_type": "code",
   "execution_count": null,
   "metadata": {},
   "outputs": [],
   "source": [
    "df = px.data.stocks(indexed=True)\n",
    "fig = px.area(df, facet_col=\"company\", facet_col_wrap=5)\n",
    "fig.show()"
   ]
  },
  {
   "cell_type": "code",
   "execution_count": null,
   "metadata": {},
   "outputs": [],
   "source": [
    "df_health =  data.loc[(data['sector']=='healthcare')]\n",
    "fig = px.histogram(df_health, x='Date',y='Close',nbins=500)\n",
    "fig.show()"
   ]
  }
 ],
 "metadata": {
  "language_info": {
   "name": "python"
  },
  "orig_nbformat": 4
 },
 "nbformat": 4,
 "nbformat_minor": 2
}
